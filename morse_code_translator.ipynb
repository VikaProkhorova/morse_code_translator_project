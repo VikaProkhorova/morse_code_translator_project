{
 "cells": [
  {
   "cell_type": "markdown",
   "metadata": {},
   "source": [
    "# **Morse code translator**"
   ]
  },
  {
   "cell_type": "markdown",
   "metadata": {},
   "source": [
    "Import libraries"
   ]
  },
  {
   "cell_type": "code",
   "execution_count": null,
   "metadata": {},
   "outputs": [],
   "source": [
    "import librosa\n",
    "import numpy as np\n",
    "import matplotlib.pyplot as plt\n",
    "from scipy.fft import fft, fftfreq\n",
    "from IPython.display import Audio\n",
    "from scipy.signal import butter, filtfilt\n",
    "from scipy.fftpack import fft\n",
    "from scipy.signal import find_peaks\n",
    "from scipy.io import wavfile\n",
    "from pydub import AudioSegment\n",
    "import librosa.display\n",
    "import difflib"
   ]
  },
  {
   "cell_type": "markdown",
   "metadata": {},
   "source": [
    "Map the morse codes and its corresponding characters in a dictionary."
   ]
  },
  {
   "cell_type": "code",
   "execution_count": null,
   "metadata": {},
   "outputs": [],
   "source": [
    "morse_map = {\n",
    "    \".-\": \"A\",      \"-...\": \"B\",    \"-.-.\": \"C\",    \"-..\": \"D\",     \".\": \"E\",\n",
    "    \"..-.\": \"F\",    \"--.\": \"G\",     \"....\": \"H\",    \"..\": \"I\",      \".---\": \"J\",\n",
    "    \"-.-\": \"K\",     \".-..\": \"L\",    \"--\": \"M\",      \"-.\": \"N\",      \"---\": \"O\",\n",
    "    \".--.\": \"P\",    \"--.-\": \"Q\",    \".-.\": \"R\",     \"...\": \"S\",     \"-\": \"T\",\n",
    "    \"..-\": \"U\",     \"...-\": \"V\",    \".--\": \"W\",     \"-..-\": \"X\",    \"-.--\": \"Y\",\n",
    "    \"--..\": \"Z\",    \".----\": \"1\",   \"..---\": \"2\",   \"...--\": \"3\",   \"....-\": \"4\",\n",
    "    \".....\": \"5\",   \"-....\": \"6\",   \"--...\": \"7\",   \"---..\": \"8\",   \"----.\": \"9\",\n",
    "    \"-----\": \"0\", \".-.-.-\": \".\", \"--..--\": \",\", \"..--..\": \"?\", \"-.-.--\": \"!\",\n",
    "    \"-.--.\": \"(\", \"-.--.-\": \")\", \".-...\": \"&\", \"---...\": \":\", \"-.-.-.\": \";\",\n",
    "    \"-..-.\": \"/\", \"..--.-\": \"_\", \"-...-\": \"=\", \".-.-.\": \"+\", \"-....-\": \"-\", \"...-..-\": \"$\",\n",
    "    \".--.-.\": \"@\", \".----.\": \"'\", \".-..-.\": '\"'\n",
    "    }"
   ]
  },
  {
   "cell_type": "markdown",
   "metadata": {},
   "source": [
    "Book in the text format"
   ]
  },
  {
   "cell_type": "code",
   "execution_count": null,
   "metadata": {},
   "outputs": [],
   "source": [
    "with open('Death_of_a_Spaceman.txt', 'r') as file:\n",
    "    book = file.read().replace(\"=\", \"\").replace(\"!\", \"\")"
   ]
  },
  {
   "cell_type": "markdown",
   "metadata": {},
   "source": [
    "# **Morse code encoder**"
   ]
  },
  {
   "cell_type": "markdown",
   "metadata": {},
   "source": [
    "### Text -> Morse code -> Audio Morse code"
   ]
  },
  {
   "cell_type": "markdown",
   "metadata": {},
   "source": [
    "Make a function to generate morse code of multiple characters"
   ]
  },
  {
   "cell_type": "code",
   "execution_count": null,
   "metadata": {},
   "outputs": [],
   "source": [
    "def morse_character(target):\n",
    "    for key, value in morse_map.items():\n",
    "        if value == target:\n",
    "            return key\n",
    "def morse_encode(text):\n",
    "    text = text.strip().upper()\n",
    "    words = text.split(' ')\n",
    "    encoded_text = ''\n",
    "    for word in words:\n",
    "        for char in word:\n",
    "            encoded_text += morse_character(char) + ' '\n",
    "        encoded_text += '  '\n",
    "    return encoded_text\n",
    "\n",
    "print(morse_encode('Hello, my name is Vika'))"
   ]
  },
  {
   "cell_type": "markdown",
   "metadata": {},
   "source": [
    "We will use sine wave to create the sound patterns.\n",
    "By using the sine function, we can generate audio signals with varying frequencies, which produce different pitches when heard. \n",
    "This makes it suitable for creating tones and melodies in audio synthesis applications."
   ]
  },
  {
   "cell_type": "markdown",
   "metadata": {},
   "source": [
    "The formula represents a sound wave given by $y(t) = \\sin(2\\pi ft)$, where:\n",
    "\n",
    "- $y(t)$ represents the value of the signal at time $t$,\n",
    "- $t$ stands for time,\n",
    "- $f$ represents the frequency of the signal (in hertz)."
   ]
  },
  {
   "cell_type": "code",
   "execution_count": null,
   "metadata": {},
   "outputs": [],
   "source": [
    "def generate_sound(duration, sample_rate=44100, frequency=750):\n",
    "    # Generate a time array\n",
    "    t = np.linspace(0, duration, int(duration * sample_rate))\n",
    "    # Generate a sine wave\n",
    "    sine_wave = np.sin(2* np.pi * frequency * t)\n",
    "    return sine_wave\n",
    "\n",
    "plt.plot(generate_sound(0.05))\n",
    "plt.xlim([0, 500])\n",
    "plt.show()"
   ]
  },
  {
   "cell_type": "code",
   "execution_count": null,
   "metadata": {},
   "outputs": [],
   "source": [
    "def generate_morse_audio(encoded_text, sample_rate=44100, frequency=750):\n",
    "    # define the durations for each symbol\n",
    "    dot_duration = 100\n",
    "    dash_duration = 3 * dot_duration\n",
    "    inter_symbol_gap_duration = dot_duration\n",
    "    inter_character_gap_duration = 3 * dot_duration\n",
    "    inter_word_gap_duration = 7 * dot_duration\n",
    "    samples = np.array([])\n",
    "    space_count = 0\n",
    "    \n",
    "    samples = np.concatenate((samples, np.zeros(int(inter_word_gap_duration / frequency * sample_rate))))\n",
    "    for symbol in encoded_text:\n",
    "        # generate sound for dot\n",
    "        if symbol == '.':\n",
    "            space_count = 0\n",
    "            samples = np.concatenate((samples, generate_sound(dot_duration / frequency)))\n",
    "            samples = np.concatenate((samples, np.zeros(int(inter_symbol_gap_duration / frequency * sample_rate))))\n",
    "        # generate sound for dash\n",
    "        elif symbol == '-':\n",
    "            space_count = 0\n",
    "            samples = np.concatenate((samples, generate_sound(dash_duration / frequency)))\n",
    "            samples = np.concatenate((samples, np.zeros(int(inter_symbol_gap_duration / frequency * sample_rate))))\n",
    "        # generate gap for inter character and inter word\n",
    "        elif symbol == ' ':\n",
    "            space_count += 1\n",
    "            if space_count >= 2 :\n",
    "                samples = np.concatenate((samples, np.zeros(int(inter_word_gap_duration / frequency * sample_rate))))\n",
    "            else:\n",
    "                samples = np.concatenate((samples, np.zeros(int(inter_character_gap_duration / frequency * sample_rate))))\n",
    "        else:\n",
    "            continue\n",
    "    return samples, sample_rate"
   ]
  },
  {
   "cell_type": "markdown",
   "metadata": {},
   "source": [
    "## Let`s put it all together"
   ]
  },
  {
   "cell_type": "code",
   "execution_count": null,
   "metadata": {},
   "outputs": [],
   "source": [
    "def text_to_audio(text):\n",
    "    morse_code = morse_encode(text)\n",
    "    samples, sample_rate = generate_morse_audio(morse_code)\n",
    "    print('Text: ', text)\n",
    "    print('Morse code: ', morse_code)\n",
    "    print('Morse audio: ')\n",
    "    display(Audio(samples, rate=sample_rate))"
   ]
  },
  {
   "cell_type": "markdown",
   "metadata": {},
   "source": [
    "Let`s try this for some sentence like \"Hello, we are students of APPS UCU!\""
   ]
  },
  {
   "cell_type": "code",
   "execution_count": null,
   "metadata": {},
   "outputs": [],
   "source": [
    "text = \"Hello, we are students of APPS UCU!\"\n",
    "text_to_audio(text)"
   ]
  },
  {
   "cell_type": "markdown",
   "metadata": {},
   "source": [
    "Also, let`s download this sound and save it in a folder called \"download.wav\" to check how the decoder works"
   ]
  },
  {
   "cell_type": "markdown",
   "metadata": {},
   "source": [
    "# **Morse code decoder**"
   ]
  },
  {
   "cell_type": "markdown",
   "metadata": {},
   "source": [
    "### Audio Morse code -> Morse code -> Text"
   ]
  },
  {
   "cell_type": "markdown",
   "metadata": {},
   "source": [
    "Make a function for filtering audio"
   ]
  },
  {
   "cell_type": "code",
   "execution_count": null,
   "metadata": {},
   "outputs": [],
   "source": [
    "def bandpass_filter(data, lowcut, highcut, fs, order=5):\n",
    "    \"\"\"\n",
    "    Smoothing filter\n",
    "    \"\"\"\n",
    "    # Calculate the Nyquist frequency\n",
    "    nyq = 0.5 * fs\n",
    "    # Normalize the cutoff frequencies\n",
    "    low = lowcut / nyq\n",
    "    high = highcut / nyq\n",
    "    # Design the bandpass filter using Butterworth filter design\n",
    "    b, a = butter(order, [low, high], btype='band')\n",
    "    # Apply the filter to the data using forward-backward filtering (filtfilt)\n",
    "    y = filtfilt(b, a, data)\n",
    "    return y"
   ]
  },
  {
   "cell_type": "markdown",
   "metadata": {},
   "source": [
    "Define a function to find Signal times and Silence times and to plot the STFT result"
   ]
  },
  {
   "cell_type": "code",
   "execution_count": null,
   "metadata": {},
   "outputs": [],
   "source": [
    "def analyze_morse_code_segment(filename, start_sec, end_sec, lowcut, highcut, order=6, n_fft=2048, hop_length=512):\n",
    "    \"\"\"\n",
    "    Loads audio, extracts needed part, and analyses it using STFFT, as librosa library uses FFT in its STFT function\n",
    "    n_fft and hop_lenght are commonly chosen values for STFT. \n",
    "    n fft represents number of points used in Fast Fourier Transform and usually people take values that are some power of 2 as it optimizes FFT\n",
    "    hop length is a size of the step with  with we move the window of stfft\n",
    "    \"\"\"\n",
    "    # Load audio file\n",
    "    y, fs = librosa.load(filename, sr=None)\n",
    "    if y.ndim > 1:  # Convert stereo to mono if necessary\n",
    "        y = np.mean(y, axis=1)\n",
    "\n",
    "    # Extract the desired segment\n",
    "    start_sample = int(start_sec * fs)\n",
    "    end_sample = int(end_sec * fs)\n",
    "    segment_data = y[start_sample:end_sample]\n",
    "\n",
    "    # Apply a bandpass filter\n",
    "    filtered_data = bandpass_filter(segment_data, lowcut, highcut, fs, order)\n",
    "\n",
    "    # Perform STFT\n",
    "    D = librosa.stft(filtered_data, n_fft=n_fft, hop_length=hop_length)\n",
    "    D_magnitude, D_phase = librosa.magphase(D)\n",
    "\n",
    "    # Convert magnitude to Decibels\n",
    "    D_db = librosa.amplitude_to_db(D_magnitude, ref=np.max)\n",
    "\n",
    "    # Plot the STFT result\n",
    "    plt.figure(figsize=(12, 6))\n",
    "    librosa.display.specshow(D_db, sr=fs, hop_length=hop_length, x_axis='time', y_axis='linear')\n",
    "    plt.colorbar(format='%+2.0f dB')\n",
    "    plt.title('STFT Magnitude (dB)')\n",
    "    plt.show()\n",
    "\n",
    "    # Now let's extact info about begining and end of peack periods as well as silence periods\n",
    "    dB_threshold = -50\n",
    "    signal_times = []\n",
    "    silence_times = []\n",
    "    is_signal = D_db > dB_threshold\n",
    "\n",
    "    # We iterate over the time frames\n",
    "    for i in range(1, is_signal.shape[1]):\n",
    "        # Check if we transition from silence to signal or signal to silence\n",
    "        if is_signal[:, i].any() and not is_signal[:, i - 1].any():\n",
    "            # Start of a signal\n",
    "            signal_start_time = i * hop_length / fs\n",
    "        elif not is_signal[:, i].any() and is_signal[:, i - 1].any():\n",
    "            # End of a signal and start of silence\n",
    "            signal_end_time = i * hop_length / fs\n",
    "            signal_times.append((signal_start_time, signal_end_time))\n",
    "            silence_start_time = signal_end_time\n",
    "        elif i == is_signal.shape[1] - 1 and is_signal[:, i].any():\n",
    "            # If we're at the last frame and it's a signal, we end the signal\n",
    "            signal_end_time = i * hop_length / fs\n",
    "            signal_times.append((signal_start_time, signal_end_time))\n",
    "\n",
    "    # After gathering all signal times, we can deduce silence times\n",
    "    for i in range(len(signal_times) - 1):\n",
    "        silence_times.append((signal_times[i][1], signal_times[i + 1][0]))\n",
    "\n",
    "    # If the signal starts right away, there is no initial silence\n",
    "    if signal_times[0][0] > 0:\n",
    "        silence_times.insert(0, (0, signal_times[0][0]))\n",
    "\n",
    "    # If the signal does not end at the last frame, we have trailing silence\n",
    "    if signal_times[-1][1] < is_signal.shape[1] * hop_length / fs:\n",
    "        silence_times.append((signal_times[-1][1], is_signal.shape[1] * hop_length / fs))\n",
    "    return signal_times, silence_times"
   ]
  },
  {
   "cell_type": "markdown",
   "metadata": {},
   "source": [
    "Let`s try it in the audio from our dataset ('000_Death_of_a_Spaceman.wav')"
   ]
  },
  {
   "cell_type": "code",
   "execution_count": null,
   "metadata": {},
   "outputs": [],
   "source": [
    "filename = 'Death_of_a_Spaceman/000_Death_of_a_Spaceman.wav'\n",
    "start_sec = 0  # Start time in seconds\n",
    "end_sec = 662   # End time in seconds\n",
    "lowcut = 500   # Low frequency threshold (Hz)\n",
    "highcut = 1500 # High frequency threshold (Hz)\n",
    "\n",
    "signal_times, silence_times = analyze_morse_code_segment(filename, start_sec, end_sec, lowcut, highcut)\n",
    "print('Signal times: ', signal_times)\n",
    "print('Silence times: ', silence_times)"
   ]
  },
  {
   "cell_type": "markdown",
   "metadata": {},
   "source": [
    "Make the function to find signal duration and silence duration"
   ]
  },
  {
   "cell_type": "code",
   "execution_count": null,
   "metadata": {},
   "outputs": [],
   "source": [
    "def calculate_durations(time_tuples):\n",
    "    \"\"\"\n",
    "    Transforms obtained lists into the lists of durations\n",
    "    \"\"\"\n",
    "    return [end - start for start, end in time_tuples]"
   ]
  },
  {
   "cell_type": "markdown",
   "metadata": {},
   "source": [
    "Let`s make it for the audio from our dataset ('000_Death_of_a_Spaceman.wav')"
   ]
  },
  {
   "cell_type": "code",
   "execution_count": null,
   "metadata": {},
   "outputs": [],
   "source": [
    "signal_duration = calculate_durations(signal_times)\n",
    "print(signal_duration)\n",
    "silence_duration = calculate_durations(silence_times)\n",
    "print(silence_duration)"
   ]
  },
  {
   "cell_type": "markdown",
   "metadata": {},
   "source": [
    "Using durations obtain written Morse code"
   ]
  },
  {
   "cell_type": "code",
   "execution_count": null,
   "metadata": {},
   "outputs": [],
   "source": [
    "def morse_text(signal_duration, silence_duration):\n",
    "    \"\"\"\n",
    "    Using durations obtain written Morse code\n",
    "    \"\"\"\n",
    "    message = \"\"\n",
    "    for i in range(len(signal_duration)-1):\n",
    "        if signal_duration[i] < 0.3:\n",
    "            message += '.'\n",
    "        if signal_duration[i] >= 0.3:\n",
    "            message += '-'\n",
    "             \n",
    "        if silence_duration[i + 1] < 0.4:\n",
    "           message += ''\n",
    "        elif silence_duration[i + 1] > 0.6:\n",
    "           message += ' / ' # division between words\n",
    "        elif silence_duration[i + 1] > 0.4 and silence_duration[i + 1] < 0.6:\n",
    "           message += ' '           \n",
    "\n",
    "    if signal_duration[-1] < 0.3:\n",
    "        message += '.'\n",
    "    if signal_duration[-1] >= 0.3:\n",
    "        message += '-'\n",
    "    return message"
   ]
  },
  {
   "cell_type": "markdown",
   "metadata": {},
   "source": [
    "Let`s make it for the audio from our dataset ('000_Death_of_a_Spaceman.wav')"
   ]
  },
  {
   "cell_type": "code",
   "execution_count": null,
   "metadata": {},
   "outputs": [],
   "source": [
    "res = morse_text(signal_duration, silence_duration)\n",
    "print(res)"
   ]
  },
  {
   "cell_type": "markdown",
   "metadata": {},
   "source": [
    "Let`s find the function to translate Morse code to English text"
   ]
  },
  {
   "cell_type": "code",
   "execution_count": null,
   "metadata": {},
   "outputs": [],
   "source": [
    "def morse_to_english(morse_code):\n",
    "    \"\"\"\n",
    "    Morse code transaltor \n",
    "    \"\"\"\n",
    "\n",
    "    # Split the Morse code into words based on '/'\n",
    "    words = morse_code.split('/')\n",
    "    decoded_message = []\n",
    "\n",
    "    # Decode each Morse code symbol\n",
    "    for word in words:\n",
    "        decoded_word = ''.join(morse_map.get(symbol, '') for symbol in word.split())\n",
    "        decoded_message.append(decoded_word)\n",
    "\n",
    "    return ' '.join(decoded_message)"
   ]
  },
  {
   "cell_type": "markdown",
   "metadata": {},
   "source": [
    "Let`s make it for the audio from our dataset ('000_Death_of_a_Spaceman.wav')"
   ]
  },
  {
   "cell_type": "code",
   "execution_count": null,
   "metadata": {},
   "outputs": [],
   "source": [
    "decoded_message = morse_to_english(res)[:-2]\n",
    "decoded_message = decoded_message.replace(\"=\", \"\")\n",
    "print(\"Decoded Message:\", decoded_message)"
   ]
  },
  {
   "cell_type": "markdown",
   "metadata": {},
   "source": [
    "Also let`s check if this the correct traslate. For this we can check the file with the book transcription (file: \"Death_of_a_Spaceman.txt\")"
   ]
  },
  {
   "cell_type": "code",
   "execution_count": null,
   "metadata": {},
   "outputs": [],
   "source": [
    "first_part = book[:503]\n",
    "print(first_part)"
   ]
  },
  {
   "cell_type": "markdown",
   "metadata": {},
   "source": [
    "Let`s make a function to find accurancy"
   ]
  },
  {
   "cell_type": "code",
   "execution_count": null,
   "metadata": {},
   "outputs": [],
   "source": [
    "def calculate_accuracy(original_text, decoded_text):\n",
    "    return difflib.SequenceMatcher(None, original_text.lower(), decoded_text.lower()).ratio()"
   ]
  },
  {
   "cell_type": "markdown",
   "metadata": {},
   "source": [
    "This function utilizes the algorithm called the \"equal blocks algorithm\" to compare two strings of text and determine their similarity.\n",
    "\n",
    "1. **Defining Equal Blocks**:\n",
    "   Initially, the algorithm searches for all possible sequences of characters that match between the two text strings. These sequences can be identical words, substrings, or even individual characters.\n",
    "\n",
    "2. **Evaluating Similarity**:\n",
    "   After defining the equal blocks, the algorithm computes the relative similarity between the strings based on the number of matching characters. The more matches between the strings, the higher the similarity score returned.\n",
    "\n",
    "3. **Returning the Similarity Score**:\n",
    "   Finally, after computing the relative number of matches, the algorithm returns this similarity score as the function's output.\n"
   ]
  },
  {
   "cell_type": "markdown",
   "metadata": {},
   "source": [
    "## Find accurancy"
   ]
  },
  {
   "cell_type": "code",
   "execution_count": null,
   "metadata": {},
   "outputs": [],
   "source": [
    "accuracy = calculate_accuracy(first_part, decoded_message)\n",
    "\n",
    "print(\"Accuracy:\", accuracy)"
   ]
  },
  {
   "cell_type": "markdown",
   "metadata": {},
   "source": [
    "## Let`s put it all together"
   ]
  },
  {
   "cell_type": "code",
   "execution_count": null,
   "metadata": {},
   "outputs": [],
   "source": [
    "def sound_to_text(filename, duration):\n",
    "    start_sec = 0  # Start time in seconds\n",
    "    end_sec =duration   # End time in seconds\n",
    "    lowcut = 500   # Low frequency threshold (Hz)\n",
    "    highcut = 1500 # High frequency threshold (Hz)\n",
    "    signal_times, silence_times = analyze_morse_code_segment(filename, start_sec, end_sec, lowcut, highcut)\n",
    "    signal_duration = calculate_durations(signal_times)\n",
    "    silence_duration = calculate_durations(silence_times)\n",
    "    res = morse_text(signal_duration, silence_duration)\n",
    "    display(Audio(filename))\n",
    "    print('Morse code: ', res)\n",
    "    decoded_message = morse_to_english(res)\n",
    "    print(\"Decoded Message:\", decoded_message)\n",
    "    return decoded_message"
   ]
  },
  {
   "cell_type": "markdown",
   "metadata": {},
   "source": [
    "## Let`s check if our decoder and encoder work correctly.  \n",
    "\n",
    "In the Encoder part we downloaded the audio Morse code for the text \"Hello, we are students of APPS UCU!\", and saved it in a folder called \"download.wav\".  \n",
    "Let`s try to decode this sound."
   ]
  },
  {
   "cell_type": "code",
   "execution_count": null,
   "metadata": {},
   "outputs": [],
   "source": [
    "filename = 'download.wav'\n",
    "sound_to_text(filename, 57)"
   ]
  },
  {
   "cell_type": "code",
   "execution_count": null,
   "metadata": {},
   "outputs": [],
   "source": [
    "print(\"Accuracy:\", calculate_accuracy(text, sound_to_text(filename, 57)))"
   ]
  },
  {
   "cell_type": "markdown",
   "metadata": {},
   "source": [
    "### The texts converged (accurancy=1), so the decoder and encoder work correctly"
   ]
  },
  {
   "cell_type": "markdown",
   "metadata": {},
   "source": [
    "# Let`s try to translate 8 part of book and find accurancy"
   ]
  },
  {
   "cell_type": "markdown",
   "metadata": {},
   "source": [
    "Text from book"
   ]
  },
  {
   "cell_type": "code",
   "execution_count": null,
   "metadata": {},
   "outputs": [],
   "source": [
    "eight_part = book[:4401]"
   ]
  },
  {
   "cell_type": "markdown",
   "metadata": {},
   "source": [
    "Let`s decode this 8 part (sound)"
   ]
  },
  {
   "cell_type": "code",
   "execution_count": null,
   "metadata": {},
   "outputs": [],
   "source": [
    "decoded_eight_part =''\n",
    "list_of_durations = [662, 661, 689, 664, 700, 703, 665, 706, 694, 668, 688, 701, 689, 672, 667, 698, 695, 689, 690, 698, 666, 681, 669, 727, 694, 707, 651, 684, 686, 679, 665, 684, 696, 708, 729, 687, 684, 697, 702, 663, 658, 682, 677, 698, 661, 686, 665, 707, 692, 674, 182]\n",
    "for i in range(8):\n",
    "    if i < 10:\n",
    "        filename = 'Death_of_a_Spaceman/00{}_Death_of_a_Spaceman.wav'.format(i)\n",
    "    else:\n",
    "        filename = 'Death_of_a_Spaceman/0{}_Death_of_a_Spaceman.wav'.format(i)\n",
    "    part = sound_to_text(filename, list_of_durations[i])\n",
    "    decoded_eight_part+=part\n",
    "decoded_eight_part = decoded_eight_part.replace(\"=\", \"\")"
   ]
  },
  {
   "cell_type": "markdown",
   "metadata": {},
   "source": [
    "Let`s compare this texts"
   ]
  },
  {
   "cell_type": "code",
   "execution_count": null,
   "metadata": {},
   "outputs": [],
   "source": [
    "print(\"Original book:\\n\", eight_part)\n",
    "print(\"Book decoded from Morse code audio:\\n\", decoded_eight_part)"
   ]
  },
  {
   "cell_type": "markdown",
   "metadata": {},
   "source": [
    "## Let`s check accurury"
   ]
  },
  {
   "cell_type": "code",
   "execution_count": null,
   "metadata": {},
   "outputs": [],
   "source": [
    "print(\"Accuracy: \", calculate_accuracy(eight_part, decoded_eight_part))"
   ]
  },
  {
   "cell_type": "markdown",
   "metadata": {},
   "source": [
    "Also we can find words where our translator made mistakes"
   ]
  },
  {
   "cell_type": "code",
   "execution_count": null,
   "metadata": {},
   "outputs": [],
   "source": [
    "decoded_words = decoded_eight_part.lower().split()\n",
    "print(decoded_words)\n",
    "book_words = eight_part.lower().split()\n",
    "print(book_words)"
   ]
  },
  {
   "cell_type": "code",
   "execution_count": null,
   "metadata": {},
   "outputs": [],
   "source": [
    "unique_elements1 = [x for x in decoded_words if x not in book_words]\n",
    "unique_elements2 =[x for x in book_words if x not in decoded_words]\n",
    "print(unique_elements1)\n",
    "print(unique_elements2)"
   ]
  },
  {
   "cell_type": "markdown",
   "metadata": {},
   "source": [
    "The wrong translated words:  \n",
    "'d', 'new' = 'knew'  \n",
    "'h', 'er' = 'her'  \n",
    "'a', 'hite' = 'white'  \n",
    "'a' = 'and'  \n",
    "'swallong' = 'swallowing'  \n",
    "'f5h-bone.' = 'fish-bone.'  \n",
    "'5' = 'he'  \n",
    "nothing = 'to'  "
   ]
  },
  {
   "cell_type": "markdown",
   "metadata": {},
   "source": [
    "# Let`s try together"
   ]
  },
  {
   "cell_type": "markdown",
   "metadata": {},
   "source": [
    "Make a Morse code audio"
   ]
  },
  {
   "cell_type": "code",
   "execution_count": null,
   "metadata": {},
   "outputs": [],
   "source": [
    "text = \"A table is in the room\"\n",
    "text_to_audio(text)"
   ]
  },
  {
   "cell_type": "markdown",
   "metadata": {},
   "source": [
    "Download the sound and try to decode"
   ]
  },
  {
   "cell_type": "code",
   "execution_count": null,
   "metadata": {},
   "outputs": [],
   "source": [
    "duration = 33\n",
    "filename_presentation = \"download1.wav\"\n",
    "sound_to_text(filename_presentation, duration)"
   ]
  }
 ],
 "metadata": {
  "kernelspec": {
   "display_name": "Python 3",
   "language": "python",
   "name": "python3"
  },
  "language_info": {
   "codemirror_mode": {
    "name": "ipython",
    "version": 3
   },
   "file_extension": ".py",
   "mimetype": "text/x-python",
   "name": "python",
   "nbconvert_exporter": "python",
   "pygments_lexer": "ipython3",
   "version": "3.11.1"
  }
 },
 "nbformat": 4,
 "nbformat_minor": 2
}
